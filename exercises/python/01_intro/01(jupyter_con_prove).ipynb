{
 "cells": [
  {
   "cell_type": "code",
   "execution_count": 1,
   "metadata": {},
   "outputs": [],
   "source": [
    "def is_palindrome(string_var):     \n",
    "    '''\n",
    "    returns True if string_var is palindrome, False otherwise\n",
    "    '''\n",
    "    return string_var == string_var[::-1]"
   ]
  },
  {
   "cell_type": "code",
   "execution_count": 3,
   "metadata": {},
   "outputs": [
    {
     "name": "stdout",
     "output_type": "stream",
     "text": [
      "True\n",
      "False\n"
     ]
    }
   ],
   "source": [
    "print(is_palindrome(\"emme\"))\n",
    "print(is_palindrome(\"ciao\"))"
   ]
  },
  {
   "cell_type": "code",
   "execution_count": 4,
   "metadata": {},
   "outputs": [],
   "source": [
    "def histogram_letters(string_var):     \n",
    "    '''\n",
    "    count how many times a letter is present in the string_var\n",
    "    and returns a dict\n",
    "\n",
    "    '''\n",
    "    import collections\n",
    "    c = {}\n",
    "    c = collections.Counter(string_var)\n",
    "    return c"
   ]
  },
  {
   "cell_type": "code",
   "execution_count": 5,
   "metadata": {},
   "outputs": [
    {
     "data": {
      "text/plain": [
       "Counter({'s': 3,\n",
       "         'u': 2,\n",
       "         'p': 2,\n",
       "         'e': 2,\n",
       "         'r': 2,\n",
       "         'c': 3,\n",
       "         'a': 3,\n",
       "         'l': 3,\n",
       "         'i': 7,\n",
       "         'f': 1,\n",
       "         'g': 1,\n",
       "         't': 2,\n",
       "         'x': 1,\n",
       "         'o': 2})"
      ]
     },
     "execution_count": 5,
     "metadata": {},
     "output_type": "execute_result"
    }
   ],
   "source": [
    "histogram_letters(\"supercalifragilisticexpialitocious\")"
   ]
  },
  {
   "cell_type": "code",
   "execution_count": 6,
   "metadata": {},
   "outputs": [],
   "source": [
    "def get_most_frequent(list_var):\n",
    "    '''\n",
    "    returns a tuple with the most frequent object in the list with the \n",
    "    corresponing number\n",
    "    '''\n",
    "    import statistics\n",
    "    obj = statistics.mode(list_var)\n",
    "    num = list_var.count(obj)\n",
    "    t = obj, num\n",
    "    return t"
   ]
  },
  {
   "cell_type": "code",
   "execution_count": 8,
   "metadata": {},
   "outputs": [
    {
     "data": {
      "text/plain": [
       "(3, 3)"
      ]
     },
     "execution_count": 8,
     "metadata": {},
     "output_type": "execute_result"
    }
   ],
   "source": [
    "get_most_frequent([1,2,2,3,3,3])"
   ]
  },
  {
   "cell_type": "code",
   "execution_count": 9,
   "metadata": {},
   "outputs": [],
   "source": [
    "def which_duplicates(list_var):\n",
    "    '''\n",
    "    return a dict with containing the repeted object and the number of repetitions\n",
    "    '''\n",
    "    duplicates = {} \n",
    "    for elem in list_var:\n",
    "        if list_var.count(elem) > 1:\n",
    "            duplicates[elem] = list_var.count(elem)\n",
    "    return duplicates"
   ]
  },
  {
   "cell_type": "code",
   "execution_count": 11,
   "metadata": {},
   "outputs": [
    {
     "data": {
      "text/plain": [
       "{2: 2, 4: 4}"
      ]
     },
     "execution_count": 11,
     "metadata": {},
     "output_type": "execute_result"
    }
   ],
   "source": [
    "which_duplicates([1,2,2,3,4,4,4,4])"
   ]
  },
  {
   "cell_type": "code",
   "execution_count": 12,
   "metadata": {},
   "outputs": [],
   "source": [
    "def compute_factorial(int_val):\n",
    "    '''\n",
    "    returns factorial of a number\n",
    "    '''\n",
    "    fact = 1\n",
    "    for i in range(1,int_val+1): \n",
    "        fact = fact * i\n",
    "    return fact"
   ]
  },
  {
   "cell_type": "code",
   "execution_count": 13,
   "metadata": {},
   "outputs": [
    {
     "data": {
      "text/plain": [
       "120"
      ]
     },
     "execution_count": 13,
     "metadata": {},
     "output_type": "execute_result"
    }
   ],
   "source": [
    "compute_factorial(5)"
   ]
  },
  {
   "cell_type": "code",
   "execution_count": 14,
   "metadata": {},
   "outputs": [],
   "source": [
    "def is_prime(int_val):\n",
    "    '''\n",
    "    returns True if int_val is prime, False otherwise\n",
    "    '''\n",
    "    if all(int_val%k !=0 for k in range(2,int_val)):\n",
    "        return True\n",
    "    else:\n",
    "        return False"
   ]
  },
  {
   "cell_type": "code",
   "execution_count": 15,
   "metadata": {},
   "outputs": [
    {
     "name": "stdout",
     "output_type": "stream",
     "text": [
      "True\n",
      "False\n"
     ]
    }
   ],
   "source": [
    "print(is_prime(7))\n",
    "print(is_prime(8))"
   ]
  }
 ],
 "metadata": {
  "kernelspec": {
   "display_name": "Python 3",
   "language": "python",
   "name": "python3"
  },
  "language_info": {
   "codemirror_mode": {
    "name": "ipython",
    "version": 3
   },
   "file_extension": ".py",
   "mimetype": "text/x-python",
   "name": "python",
   "nbconvert_exporter": "python",
   "pygments_lexer": "ipython3",
   "version": "3.7.0"
  }
 },
 "nbformat": 4,
 "nbformat_minor": 2
}
